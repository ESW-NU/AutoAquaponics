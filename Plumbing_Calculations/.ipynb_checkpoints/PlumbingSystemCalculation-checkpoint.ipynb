{
 "cells": [
  {
   "cell_type": "markdown",
   "metadata": {
    "id": "i7SgvSNZM3Tn"
   },
   "source": [
    "# Water Filtration Flow Calculation\n",
    "\n",
    "*Below is the calculation done to ensure that the water filtration system of AutoAquaponics can handle the amount of flow we input without overflowing while ensuring proper solid removal*\n",
    "***\n"
   ]
  },
  {
   "cell_type": "markdown",
   "metadata": {
    "id": "JzCmPPCaM3Tq"
   },
   "source": [
    "## Problem Description\n",
    "\n",
    "System has:\n",
    "- 4 elbows\n",
    "- Reentrant entry\n",
    "- One exit\n",
    "- The overflow is a distance h_in below the water level in the tank\n",
    "- Maximum input Q = 150 GPH to keep HRT at 2 min\n",
    "- Minimum pipe velocity V = 1 ft/s to make sure we have enough velocity to lift fish waste up the SLO\n",
    "\n",
    "We are interested in finding:\n",
    "- Effective pipe diameter (approximate to nearest standard pipe size)\n",
    "- y, distance between water level of fish tank and filter\n",
    "\n",
    "[Values of Resistance Coefficient (K) for Various Fitting Types](https://www.plumbingsupply.com/ed-frictionlosses.html)"
   ]
  },
  {
   "cell_type": "code",
   "execution_count": 305,
   "metadata": {},
   "outputs": [
    {
     "data": {
      "text/html": [
       "<table><tr><td><img src='tank_to_filter.jpg' width='500'></table>"
      ],
      "text/plain": [
       "<IPython.core.display.HTML object>"
      ]
     },
     "metadata": {},
     "output_type": "display_data"
    }
   ],
   "source": [
    "from IPython.core.display import HTML\n",
    "display(HTML(\"<table><tr><td><img src='tank_to_filter.jpg' width='500'></table>\"))"
   ]
  },
  {
   "cell_type": "code",
   "execution_count": 306,
   "metadata": {},
   "outputs": [],
   "source": [
    "# Input variables of interest, change these to adjust system parameters:\n",
    "flow = 150 #GPH\n",
    "D_num = 1.049 #inches\n",
    "l_num = 6\n",
    "filter_V = 5 #gallon\n",
    "num_90elbow = 4\n",
    "num_45elbow = 0\n",
    "num_gatevalve = 0\n",
    "num_globevalve = 0\n",
    "num_Tflow = 0\n",
    "num_Tbranch = 0\n",
    "input_var_list_str = [\"Desired Flow (GPH)\", \"Hydraulic Diameter of PVC Pipe (in)\", \"Total Pipe Length (ft)\", \"Settling Tank Volume (gallon)\", \"# of 90\\N{DEGREE SIGN} Elbows\", \"# of 45\\N{DEGREE SIGN} Elbows\", \"# of Gate Valves\", \"# of Globe Valves\", \"# of T Fittings\"]\n",
    "input_var_list = [flow, D_num, l_num, filter_V, num_90elbow, num_45elbow, num_gatevalve, num_globevalve, num_Tflow]"
   ]
  },
  {
   "cell_type": "code",
   "execution_count": 307,
   "metadata": {
    "id": "EqNTO0UqM3Ts",
    "scrolled": true
   },
   "outputs": [
    {
     "name": "stdout",
     "output_type": "stream",
     "text": [
      "Input variables of interest:\n",
      "\n",
      "Desired Flow (GPH): 150\n",
      "Hydraulic Diameter of PVC Pipe (in): 1.049\n",
      "Total Pipe Length (ft): 6\n",
      "Settling Tank Volume (gallon): 5\n",
      "# of 90° Elbows: 4\n",
      "# of 45° Elbows: 0\n",
      "# of Gate Valves: 0\n",
      "# of Globe Valves: 0\n",
      "# of T Fittings: 0\n"
     ]
    }
   ],
   "source": [
    "# Import all libraries and dependencies here\n",
    "from sympy import symbols, Function, sin, cos, solve, Matrix, simplify, Eq\n",
    "from sympy.abc import t\n",
    "import sympy as sym\n",
    "import numpy as np\n",
    "\n",
    "# Define all symbolic variables\n",
    "Pout, Vout, g, rho, Pin, Vin, Zin, Zout, hin, hs, hL, Patm, deltaZ = symbols(r'P_out, V_out, g, rho, P_in, V_in, Z_in, Z_out, h_in, h_s, h_L, P_atm, deltaZ') #def all the parameters here\n",
    "Q, f, l, D, V, k, Kl_90elbow, Kl_45elbow, Kl_gatevalve, Kl_globevalve, Kl_Tflow, Kl_Tbranch, Kl_entry, Kl_exit = symbols(r'Q, f, l, D, V, k, k_L90elbow, k_L45elbow, k_Lgatevalve, k_Lglobevalve, k_Lflow, k_Lbranch, k_Lentry, k_Lexit')\n",
    "A = np.pi*((D/2)**2) #define area in terms of D and pi\n",
    "\n",
    "print(\"Input variables of interest:\\n\")\n",
    "for ii in range(len(input_var_list_str)):\n",
    "    print(input_var_list_str[ii] + \": \" + str(input_var_list[ii]))"
   ]
  },
  {
   "cell_type": "code",
   "execution_count": 308,
   "metadata": {},
   "outputs": [
    {
     "name": "stdout",
     "output_type": "stream",
     "text": [
      "Start with Conservation of Energy\n"
     ]
    },
    {
     "data": {
      "text/latex": [
       "$\\displaystyle \\frac{P_{out}}{g \\rho} + \\frac{V_{out}^{2}}{2 g} + Z_{out} = \\frac{P_{in}}{g \\rho} + \\frac{V_{in}^{2}}{2 g} + Z_{in} - h_{L} + h_{s}$"
      ],
      "text/plain": [
       "Eq(P_out/(g*rho) + V_out**2/(2*g) + Z_out, P_in/(g*rho) + V_in**2/(2*g) + Z_in - h_L + h_s)"
      ]
     },
     "metadata": {},
     "output_type": "display_data"
    },
    {
     "name": "stdout",
     "output_type": "stream",
     "text": [
      "Symbolic solution for Zin-Zout\n"
     ]
    },
    {
     "data": {
      "text/latex": [
       "$\\displaystyle Z_{in} - Z_{out} = \\frac{- P_{in} + P_{out} + g \\rho \\left(h_{L} - h_{s}\\right) + \\frac{\\rho \\left(- V_{in}^{2} + V_{out}^{2}\\right)}{2}}{g \\rho}$"
      ],
      "text/plain": [
       "Eq(Z_in - Z_out, (-P_in + P_out + g*rho*(h_L - h_s) + rho*(-V_in**2 + V_out**2)/2)/(g*rho))"
      ]
     },
     "metadata": {},
     "output_type": "display_data"
    },
    {
     "name": "stdout",
     "output_type": "stream",
     "text": [
      "According to our assumptions, we can reduce this down to: \n"
     ]
    },
    {
     "data": {
      "text/latex": [
       "$\\displaystyle Z_{in} - Z_{out} = h_{L}$"
      ],
      "text/plain": [
       "Eq(Z_in - Z_out, h_L)"
      ]
     },
     "metadata": {},
     "output_type": "display_data"
    }
   ],
   "source": [
    "# Start with Conservation of Energy\n",
    "MechEnergyEq = sym.Eq(Pout/(rho*g) + Vout**2/(2*g) + Zout, Pin/(rho*g) + Vin**2/(2*g)+Zin+hs-hL)\n",
    "print(\"Start with Conservation of Energy\")\n",
    "display(MechEnergyEq)\n",
    "soln = solve(MechEnergyEq, Zin-Zout)[0]\n",
    "print(\"Symbolic solution for Zin-Zout\")\n",
    "display(Eq(Zin-Zout, soln))\n",
    "\n",
    "# Assumptions\n",
    "# Free surface assumption\n",
    "#Pout = Patm\n",
    "#Pin = Patm\n",
    "\n",
    "# Big vat assumption\n",
    "#Vin = 0\n",
    "#Vout = 0\n",
    "\n",
    "# No pump\n",
    "#hs = 0\n",
    "\n",
    "print(\"According to our assumptions, we can reduce this down to: \")\n",
    "soln = soln.subs({Pin:Patm, Pout:Patm, Vin:0, Vout:0, hs:0})\n",
    "display(Eq(Zin-Zout, soln))"
   ]
  },
  {
   "cell_type": "code",
   "execution_count": 309,
   "metadata": {},
   "outputs": [
    {
     "name": "stdout",
     "output_type": "stream",
     "text": [
      "Now calculate head loss (major loss + minor loss)\n",
      "Major loss:\n"
     ]
    },
    {
     "data": {
      "text/latex": [
       "$\\displaystyle \\frac{V^{2} f l}{2 D g}$"
      ],
      "text/plain": [
       "V**2*f*l/(2*D*g)"
      ]
     },
     "metadata": {},
     "output_type": "display_data"
    },
    {
     "name": "stdout",
     "output_type": "stream",
     "text": [
      "Minor loss:\n"
     ]
    },
    {
     "data": {
      "text/latex": [
       "$\\displaystyle \\frac{V^{2} \\left(4 k_{L90elbow} + k_{Lentry} + k_{Lexit}\\right)}{2 g}$"
      ],
      "text/plain": [
       "V**2*(4*k_L90elbow + k_Lentry + k_Lexit)/(2*g)"
      ]
     },
     "metadata": {},
     "output_type": "display_data"
    },
    {
     "name": "stdout",
     "output_type": "stream",
     "text": [
      "Substitute in major and minor losses:\n"
     ]
    },
    {
     "data": {
      "text/latex": [
       "$\\displaystyle Z_{in} - Z_{out} = \\frac{V^{2} \\left(D \\left(4 k_{L90elbow} + k_{Lentry} + k_{Lexit}\\right) + f l\\right)}{2 D g}$"
      ],
      "text/plain": [
       "Eq(Z_in - Z_out, V**2*(D*(4*k_L90elbow + k_Lentry + k_Lexit) + f*l)/(2*D*g))"
      ]
     },
     "metadata": {},
     "output_type": "display_data"
    }
   ],
   "source": [
    "print(\"Now calculate head loss (major loss + minor loss)\")\n",
    "\n",
    "majorLoss = (f*l/D)*(V**2)/(2*g)\n",
    "print(\"Major loss:\")\n",
    "display(majorLoss)\n",
    "print(\"Minor loss:\")\n",
    "minorLoss = (V**2)/(2*g)*(num_90elbow*Kl_90elbow+num_45elbow*Kl_45elbow+num_gatevalve*Kl_gatevalve+num_globevalve*Kl_globevalve+num_Tbranch*Kl_Tbranch+num_Tflow*Kl_Tflow+1*Kl_entry+1*Kl_exit)\n",
    "display(minorLoss)\n",
    "\n",
    "print(\"Substitute in major and minor losses:\")\n",
    "soln = simplify(soln.subs(hL, majorLoss+minorLoss))\n",
    "display(Eq(Zin-Zout, soln))"
   ]
  },
  {
   "cell_type": "code",
   "execution_count": 310,
   "metadata": {},
   "outputs": [
    {
     "name": "stdout",
     "output_type": "stream",
     "text": [
      "Solve for Reynold's number:\n"
     ]
    },
    {
     "data": {
      "text/latex": [
       "$\\displaystyle 92592.5925925926 D V$"
      ],
      "text/plain": [
       "92592.5925925926*D*V"
      ]
     },
     "metadata": {},
     "output_type": "display_data"
    },
    {
     "name": "stdout",
     "output_type": "stream",
     "text": [
      "Q_num (ft^3/s):  0.005570041666666666\n",
      "A_num (ft^2):  0.006001756419449411\n",
      "V_num (ft/s):  0.9280685981550797\n",
      "Plug in Q and D gets us the Reynold's number:\n"
     ]
    },
    {
     "data": {
      "text/latex": [
       "$\\displaystyle 7511.91326747437$"
      ],
      "text/plain": [
       "7511.91326747437"
      ]
     },
     "metadata": {},
     "output_type": "display_data"
    },
    {
     "name": "stdout",
     "output_type": "stream",
     "text": [
      "Reynold's number > 2000, turbulent flow:\n"
     ]
    },
    {
     "data": {
      "text/latex": [
       "$\\displaystyle f = 0.14929296891272 \\left(0.00665609388975424 + \\frac{k}{D}\\right)^{0.333333333333333} + 0.0055$"
      ],
      "text/plain": [
       "Eq(f, 0.14929296891272*(0.00665609388975424 + k/D)**0.333333333333333 + 0.0055)"
      ]
     },
     "metadata": {},
     "output_type": "display_data"
    },
    {
     "name": "stdout",
     "output_type": "stream",
     "text": [
      "Final numeric solution for minimal difference in height between the two water levels to prevent overflow (in):\n"
     ]
    },
    {
     "data": {
      "text/latex": [
       "$\\displaystyle 1.1036314036225$"
      ],
      "text/plain": [
       "1.10363140362250"
      ]
     },
     "metadata": {},
     "output_type": "display_data"
    },
    {
     "name": "stdout",
     "output_type": "stream",
     "text": [
      "Hydraulic Retention Time (min)\n"
     ]
    },
    {
     "data": {
      "text/plain": [
       "2.0"
      ]
     },
     "metadata": {},
     "output_type": "display_data"
    }
   ],
   "source": [
    "Re = V*D/(0.0000108) #kinematic viscosity is in ft^2/s, for water at 20C\n",
    "print(\"Solve for Reynold's number:\")\n",
    "display(Re)\n",
    "#Q numeric\n",
    "Q_num = flow * 0.133681 * (1/3600) #ft^3/s\n",
    "print(\"Q_num (ft^3/s): \", Q_num)\n",
    "#A numeric\n",
    "A_num = np.pi*(((D_num/12)/2)**2)\n",
    "print(\"A_num (ft^2): \", A_num)\n",
    "#V numeric\n",
    "V_num = Q_num/A_num\n",
    "print(\"V_num (ft/s): \", V_num)\n",
    "print(\"Plug in Q and D gets us the Reynold's number:\")\n",
    "Re_num = Re.subs({V:V_num, D:D_num/12})\n",
    "display(Re_num)\n",
    "\n",
    "if Re_num < 2000:\n",
    "    print(\"Reynold's number < 2000, laminar flow:\")\n",
    "    f_num = 64/Re_num\n",
    "    display(Eq(f,f_num))\n",
    "elif Re_num > 2000:\n",
    "    print(\"Reynold's number > 2000, turbulent flow:\")\n",
    "    # The below equation is the Moody equation\n",
    "    # Source: https://www.omnicalculator.com/physics/friction-factor\n",
    "    f_num = 0.0055 * ( 1 + (2 * (10**4) * k/D + (10**6)/Re_num)**(1/3))\n",
    "    display(Eq(f,f_num))\n",
    "    \n",
    "print(\"Final numeric solution for minimal difference in height between the two water levels to prevent overflow (in):\")\n",
    "soln = soln.subs({V:V_num, f:f_num})\n",
    "# Absolute friction value (k) of PVC pipes span from (0.49 - 2.30) 10e-5, so we are going the conservative route\n",
    "# and using 2.30e-5\n",
    "# Source: https://www.engineeringtoolbox.com/surface-roughness-ventilation-ducts-d_209.html\n",
    "# Gravitational constant: 32.17 ft/s^2\n",
    "# Density of water: 62.4 lbs/ft^3\n",
    "# Patm = 14.6959 lbs/in^2 * 144 in^2/1 ft^2\n",
    "soln = soln.subs({Kl_90elbow:0.69, l:l_num, D:D_num/12, k: 2.30e-5, Kl_entry:0.78, Kl_exit:1, g:32.17, rho:62.4, Patm:14.6959*144})\n",
    "display(soln*12)\n",
    "\n",
    "# Calculate HRT\n",
    "filter_V_ft = filter_V*0.133681\n",
    "HRT = (filter_V_ft/Q_num)/60\n",
    "print(\"Hydraulic Retention Time (min)\")\n",
    "display(HRT)"
   ]
  },
  {
   "cell_type": "code",
   "execution_count": null,
   "metadata": {},
   "outputs": [],
   "source": []
  }
 ],
 "metadata": {
  "colab": {
   "collapsed_sections": [],
   "name": "hw6_template2.ipynb",
   "provenance": []
  },
  "kernelspec": {
   "display_name": "Python 3 (ipykernel)",
   "language": "python",
   "name": "python3"
  },
  "language_info": {
   "codemirror_mode": {
    "name": "ipython",
    "version": 3
   },
   "file_extension": ".py",
   "mimetype": "text/x-python",
   "name": "python",
   "nbconvert_exporter": "python",
   "pygments_lexer": "ipython3",
   "version": "3.9.6"
  }
 },
 "nbformat": 4,
 "nbformat_minor": 1
}
