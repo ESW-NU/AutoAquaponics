{
 "cells": [
  {
   "cell_type": "markdown",
   "metadata": {
    "id": "i7SgvSNZM3Tn"
   },
   "source": [
    "# Water Filtration Flow Calculation\n",
    "\n",
    "*Below is the calculation done to ensure that the water filtration system of AutoAquaponics can handle the amount of flow we input without overflowing while ensuring proper solid removal. Below is an image of the entire system plus the grow beds*\n",
    "***\n"
   ]
  },
  {
   "cell_type": "code",
   "execution_count": 1,
   "metadata": {},
   "outputs": [
    {
     "data": {
      "text/html": [
       "<table><tr><td><img src='sys_plus_growbeds.jpg' width='800'></table>"
      ],
      "text/plain": [
       "<IPython.core.display.HTML object>"
      ]
     },
     "metadata": {},
     "output_type": "display_data"
    }
   ],
   "source": [
    "from IPython.core.display import HTML\n",
    "display(HTML(\"<table><tr><td><img src='sys_plus_growbeds.jpg' width='800'></table>\"))"
   ]
  },
  {
   "cell_type": "markdown",
   "metadata": {
    "id": "JzCmPPCaM3Tq"
   },
   "source": [
    "## Overall System Description\n",
    "\n",
    "We will ignore the grow beds from above as they are inconsequential to the overall filter design.\n",
    "\n",
    "System description:\n",
    "- 3 filter tanks (each 5 gallons)\n",
    "- 1 fish tank (100 gallon)\n",
    "- 1 sump tank (60 gallon)\n",
    "- 2 grow beds\n",
    "- Everything is gravity fed with exception of part from pump to grow beds\n",
    "- Ignore the effect of the ball valve on Overflow 1 as it is full port and assumed to be always open\n",
    "- **We'll ignore resistance of membrane filtration, flow sensor, and biofilm reactor for now as they are uncertain at the moment**\n",
    "\n",
    "Goals:\n",
    "- Maximum input keep HRT of the settling tank at 2 min\n",
    "- Minimum pipe velocity of lower SLO above V = 1 ft/s to make sure we have enough velocity to lift fish waste up the SLO\n",
    "\n",
    "We are interested in finding:\n",
    "- Effective pipe diameters (approximate to nearest standard pipe size) for dotted ($D_{1}$) and solid pipes ($D_{2}$)\n",
    "- $Z_{1}$, $Z_{2}$, $Z_{3}$ distance between water level of fish tank and filter tanks\n",
    "\n",
    "[Values of Resistance Coefficient (K) for Various Fitting Types](https://www.plumbingsupply.com/ed-frictionlosses.html)\n",
    "\n",
    "[Absolute Roughness Coefficient (k) of Different Pipe Materials](https://www.engineeringtoolbox.com/surface-roughness-ventilation-ducts-d_209.html)"
   ]
  },
  {
   "cell_type": "code",
   "execution_count": 1,
   "metadata": {},
   "outputs": [
    {
     "data": {
      "text/html": [
       "<table><tr><td><img src='whole_sys.jpg' width='800'></table>"
      ],
      "text/plain": [
       "<IPython.core.display.HTML object>"
      ]
     },
     "metadata": {},
     "output_type": "display_data"
    }
   ],
   "source": [
    "from IPython.core.display import HTML\n",
    "display(HTML(\"<table><tr><td><img src='whole_sys.jpg' width='800'></table>\"))"
   ]
  },
  {
   "cell_type": "code",
   "execution_count": 2,
   "metadata": {},
   "outputs": [],
   "source": [
    "# Import all libraries and dependencies here\n",
    "from sympy import symbols, Function, sin, cos, solve, Matrix, simplify, Eq\n",
    "from sympy.abc import t\n",
    "import sympy as sym\n",
    "import pandas as pd\n",
    "import numpy as np\n",
    "\n",
    "# This function gives us the resistance coefficient based on diameter and fitting type\n",
    "def getkL(D, fitting):\n",
    "    # D is the hydraulic diameter of the pipe in inches\n",
    "    # fitting is an integer representing a type of PVC fitting as defined in the link below\n",
    "    # fitting = 0 is Angle Valve LD 55, 1 is Angle Valve LD 150, etc. NaN is inputted for empty values\n",
    "    # Source: https://www.plumbingsupply.com/ed-frictionlosses.html\n",
    "    dict = {'0.5':[1.48,4.05,0.08,np.nan,0.22,9.2,2.43,0.48,0.81,0.81,0.43,0.43,np.nan,1.35,0.54,1.62,0.54,0.32,0.32,0.38,0.46,0.65,0.81,0.92,1.03,1.13,1.24,1.35,0.05,0.11,0.22,0.41,0.68,1.09,1.62],\n",
    "            '0.75': [1.38,3.75,0.08,np.nan,0.2,8.5,2.25,0.45,0.75,0.75,0.4,0.4,np.nan,1.25,0.5,1.5,0.5,0.3,0.3,0.35,0.43,0.6,0.75,0.85,0.95,1.05,1.15,1.25,0.05,0.1,0.2,0.38,0.63,1,1.5],\n",
    "            '1':[1.27,3.45,0.07,np.nan,0.18,7.8,2.07,0.41,0.69,0.69,0.37,0.37,np.nan,1.15,0.46,1.38,0.46,0.28,0.28,0.32,0.39,0.55,0.69,0.78,0.87,0.97,1.06,1.15,0.05,0.09,0.18,0.35,0.58,0.92,1.38],\n",
    "            '1.25':[1.21,3.3,0.07,np.nan,0.18,7.5,1.98,0.4,0.66,0.66,0.35,0.35,np.nan,1.1,0.44,1.32,0.44,0.26,0.26,0.31,0.37,0.53,0.66,0.75,0.84,0.92,1.01,1.1,0.04,0.09,0.18,0.33,0.55,0.88,1.32],\n",
    "            '1.5':[1.16,3.15,0.06,np.nan,0.15,7.1,1.89,0.38,0.63,0.63,0.34,0.34,np.nan,1.05,0.42,1.26,0.42,0.25,0.25,0.29,0.36,0.5,0.63,0.71,0.8,0.88,0.97,1.05,0.04,0.08,0.17,0.32,0.53,0.84,1.26], \n",
    "            '2':[1.05,2.85,0.06,0.86,0.15,6.5,1.71,0.34,0.57,0.57,0.3,0.3,np.nan,0.95,0.38,1.14,0.38,0.23,0.23,0.27,0.32,0.46,0.57,0.65,0.72,0.8,0.87,0.95,0.04,0.08,0.15,0.29,0.48,0.76,1.14], \n",
    "            '2.5': [0.99,2.7,0.05,0.81,0.14,6.1,1.62,0.32,0.54,0.54,0.29,0.29,np.nan,0.9,0.36,1.08,0.36,0.22,0.22,0.25,0.31,0.43,0.54,0.61,0.68,0.76,0.83,0.9,0.04,0.07,0.14,0.27,0.45,0.72,1.08],\n",
    "            '3': [0.99,2.7,0.05,0.81,0.14,6.1,1.62,0.32,0.54,0.54,0.29,0.29,np.nan,0.9,0.36,1.08,0.36,0.22,0.22,0.25,0.31,0.43,0.54,0.61,0.68,0.76,0.83,0.9,0.04,0.07,0.14,0.27,0.45,0.72,1.08],\n",
    "            '4': [0.94,2.55,0.05,0.77,0.14,5.8,1.53,0.31,0.51,0.51,0.27,0.27,np.nan,0.85,0.34,1.02,0.34,0.2,0.2,0.24,0.29,0.41,0.51,0.58,0.65,0.71,0.78,0.85,0.03,0.07,0.14,0.26,0.43,0.68,1.02]}\n",
    "    df = pd.DataFrame(dict)\n",
    "\n",
    "    # Choose the closest nominal diameter to the input hydraulic diameter and index the dataframe with it\n",
    "    lst = [0.5, 0.75, 1, 1.25, 1.5, 2, 2.5, 3, 4]\n",
    "    D_nom = lst[min(range(len(lst)), key = lambda i: abs(lst[i]-D))]\n",
    "    return(df[str(D_nom)][fitting])\n",
    "\n",
    "def getf(Q, D):\n",
    "    k = 2.30e-5\n",
    "    D = D/12 #convert to feet\n",
    "    #A numeric\n",
    "    A = np.pi*((D/2)**2)\n",
    "    #V numeric\n",
    "    V = Q/A\n",
    "    print(\"Solve for Reynold's number:\")\n",
    "    Re = V*D/(0.0000108) #kinematic viscosity is in ft^2/s, for water at 20C\n",
    "    display(Re)\n",
    "    if Re < 2000:\n",
    "        print(\"Reynold's number < 2000, laminar flow:\")\n",
    "        f_num = 64/Re\n",
    "    elif Re > 2000:\n",
    "        print(\"Reynold's number > 2000, turbulent flow:\")\n",
    "        # The below equation is the Moody equation\n",
    "        # Source: https://www.omnicalculator.com/physics/friction-factor\n",
    "        f_num = 0.0055 * ( 1 + (2 * (10**4) * k/D + (10**6)/Re)**(1/3))\n",
    "    display(f_num)\n",
    "    return f_num"
   ]
  },
  {
   "cell_type": "markdown",
   "metadata": {
    "id": "JzCmPPCaM3Tq"
   },
   "source": [
    "### Part I: Fish Tank to Settling Tank and Membrane Filtration\n",
    "\n",
    "System description:\n",
    "- 2 pipe sizes (fish tank to settling tank, everything else)\n",
    "- 3 distinct velocities (from fish tank to settling tank ($V_{1}$), settling tank overflow to branch input of T-fitting ($V_{2}$), from fish tank to flow input of T-fitting ($V_{3}$), output of T-fitting into membrane filtration tank ($V_{4}$))\n",
    " - At $V_{1}$ (this is the only segment with the smaller diameter $D_{1}$, all other segments we are using $D_{2}$) we have:\n",
    "     - One reentrant entry\n",
    "     - Two 90 degree elbows\n",
    "     - One exit\n",
    " - At $V_{2}$ we have:\n",
    "     - One reentrant entry\n",
    "     - One T-fitting branch\n",
    " - At $V_{3}$ we have:\n",
    "     - One reentrant entry\n",
    "     - One gate valve\n",
    "     - Two 90 degree elbows\n",
    "     - One T-fitting flow\n",
    " - At $V_{4}$ we have:\n",
    "     - One exit\n",
    "- Maximum input Q = 150 GPH to keep HRT at 2 min\n",
    "- Minimum pipe velocity V = 1 ft/s to make sure we have enough velocity to lift fish waste up the SLO\n",
    "\n",
    "We are interested in finding:\n",
    "- Effective pipe diameters $D_{1}$ and $D_{2}$  (approximate to nearest standard pipe size)\n",
    "- $Z_{1}$, $Z_{2}$, distances between water level of fish tank and the two filter tanks. $Z_{1}$ just depends on the lower SLO segment while $Z_{2}$ is the larger value between what is needed to drain the settling tank and what is needed to drain the remaining flow from the fish tank through the top SLO\n",
    "\n",
    "We'll ignore the friction loss from the tanks themselves for now. See image below for a diagram of Part 1:"
   ]
  },
  {
   "cell_type": "code",
   "execution_count": 2,
   "metadata": {},
   "outputs": [
    {
     "data": {
      "text/html": [
       "<table><tr><td><img src='part1_diag.jpg' width='700'></table>"
      ],
      "text/plain": [
       "<IPython.core.display.HTML object>"
      ]
     },
     "metadata": {},
     "output_type": "display_data"
    }
   ],
   "source": [
    "from IPython.core.display import HTML\n",
    "display(HTML(\"<table><tr><td><img src='part1_diag.jpg' width='700'></table>\"))"
   ]
  },
  {
   "cell_type": "markdown",
   "metadata": {
    "id": "JzCmPPCaM3Tq"
   },
   "source": [
    "#### Start from lower SLO to settling tank:"
   ]
  },
  {
   "cell_type": "code",
   "execution_count": 23,
   "metadata": {},
   "outputs": [],
   "source": [
    "# Input variables of interest, change these to adjust system parameters:\n",
    "totalQ = 1000 #GPH\n",
    "HRT = 2 #min\n",
    "D_num = 1.029 #inches\n",
    "l_num = 6 #feet\n",
    "filter_V = 5 #gallons\n",
    "num_90elbow = 2\n",
    "num_45elbow = 0\n",
    "num_gatevalve = 0\n",
    "num_globevalve = 0\n",
    "num_ballvalve = 1\n",
    "num_Tflow = 0\n",
    "num_Tbranch = 0\n",
    "input_var_list_str = [\"Total Volumetric Flow Rate (GPH)\", \"Desired HRT (min)\", \"Hydraulic Diameter of PVC Pipe (in)\", \"Total Pipe Length (ft)\", \"Settling Tank Volume (gallon)\", \"# of 90\\N{DEGREE SIGN} Elbows\", \"# of 45\\N{DEGREE SIGN} Elbows\", \"# of Gate Valves\", \"# of Globe Valves\", \"# of Ball Valves\", \"# of T Fittings (Flow)\", \"# of T Fittings (Branch)\"]\n",
    "input_var_list = [totalQ, HRT, D_num, l_num, filter_V, num_90elbow, num_45elbow, num_gatevalve, num_globevalve, num_ballvalve, num_Tflow, num_Tbranch]"
   ]
  },
  {
   "cell_type": "code",
   "execution_count": 5,
   "metadata": {
    "id": "EqNTO0UqM3Ts",
    "scrolled": true
   },
   "outputs": [
    {
     "name": "stdout",
     "output_type": "stream",
     "text": [
      "Input variables of interest:\n",
      "\n",
      "Total Volumetric Flow Rate (GPH): 1000\n",
      "Desired HRT (min): 2\n",
      "Hydraulic Diameter of PVC Pipe (in): 1.029\n",
      "Total Pipe Length (ft): 6\n",
      "Settling Tank Volume (gallon): 5\n",
      "# of 90° Elbows: 2\n",
      "# of 45° Elbows: 0\n",
      "# of Gate Valves: 0\n",
      "# of Globe Valves: 0\n",
      "# of Ball Valves: 1\n",
      "# of T Fittings (Flow): 0\n",
      "# of T Fittings (Branch): 0\n"
     ]
    }
   ],
   "source": [
    "# Define all symbolic variables\n",
    "Pout, Vout, g, rho, Pin, Vin, Zin, Zout, hin, hs, hL, Patm, Z1, Z2, Z3 = symbols(r'P_out, V_out, g, rho, P_in, V_in, Z_in, Z_out, h_in, h_s, h_L, P_atm, Z_1, Z_2, Z_3') #def all the parameters here\n",
    "Q, f, f2, f_total, f3, l, l2, l_total, l3, D, D2, V, V2, V3, V4, k, Kl_90elbow, Kl_45elbow, Kl_gatevalve, Kl_globevalve, Kl_ballvalve, Kl_Tflow, Kl_Tbranch, Kl_entry, Kl_exit = symbols(r'Q, f_1, f_2, f_total, f_3, l_1, l_2, l_total, l_3, D, D_2, V_1, V_2, V_3, V_4, k, k_L90elbow, k_L45elbow, k_Lgatevalve, k_Lglobevalve, k_Lballvalve k_Lflow, k_Lbranch, k_Lentry, k_Lexit')\n",
    "\n",
    "# Define some recurring numeric variables\n",
    "#A = np.pi*((D/2)**2) #define area in terms of D and pi\n",
    "filter_V_ft = filter_V*0.133681 #convert filter volume to ft^3\n",
    "\n",
    "print(\"Input variables of interest:\\n\")\n",
    "for ii in range(len(input_var_list_str)):\n",
    "    print(input_var_list_str[ii] + \": \" + str(input_var_list[ii]))"
   ]
  },
  {
   "cell_type": "markdown",
   "metadata": {
    "id": "JzCmPPCaM3Tq"
   },
   "source": [
    "#### Start from lower SLO to settling tank:\n",
    "Assumptions:\n",
    "- Free surface assumption:\n",
    "    - Pout = Patm\n",
    "    - Pin = Patm\n",
    "\n",
    "- Big vat assumption:\n",
    "    - Vin = 0\n",
    "    - Vout = 0\n",
    "\n",
    "- No pump:\n",
    "    - hs = 0"
   ]
  },
  {
   "cell_type": "code",
   "execution_count": 6,
   "metadata": {},
   "outputs": [
    {
     "name": "stdout",
     "output_type": "stream",
     "text": [
      "Start with Conservation of Energy\n"
     ]
    },
    {
     "data": {
      "text/latex": [
       "$\\displaystyle \\frac{P_{out}}{g \\rho} + \\frac{V_{out}^{2}}{2 g} + Z_{out} = \\frac{P_{in}}{g \\rho} + \\frac{V_{in}^{2}}{2 g} + Z_{in} - h_{L} + h_{s}$"
      ],
      "text/plain": [
       "Eq(P_out/(g*rho) + V_out**2/(2*g) + Z_out, P_in/(g*rho) + V_in**2/(2*g) + Z_in - h_L + h_s)"
      ]
     },
     "metadata": {},
     "output_type": "display_data"
    },
    {
     "name": "stdout",
     "output_type": "stream",
     "text": [
      "Symbolic solution for Zin-Zout\n"
     ]
    },
    {
     "data": {
      "text/latex": [
       "$\\displaystyle Z_{in} - Z_{out} = \\frac{- P_{in} + P_{out} + g \\rho \\left(h_{L} - h_{s}\\right) + \\frac{\\rho \\left(- V_{in}^{2} + V_{out}^{2}\\right)}{2}}{g \\rho}$"
      ],
      "text/plain": [
       "Eq(Z_in - Z_out, (-P_in + P_out + g*rho*(h_L - h_s) + rho*(-V_in**2 + V_out**2)/2)/(g*rho))"
      ]
     },
     "metadata": {},
     "output_type": "display_data"
    },
    {
     "name": "stdout",
     "output_type": "stream",
     "text": [
      "According to our assumptions, we can reduce this down to: \n"
     ]
    },
    {
     "data": {
      "text/latex": [
       "$\\displaystyle Z_{in} - Z_{out} = h_{L}$"
      ],
      "text/plain": [
       "Eq(Z_in - Z_out, h_L)"
      ]
     },
     "metadata": {},
     "output_type": "display_data"
    }
   ],
   "source": [
    "# Start with Conservation of Energy\n",
    "MechEnergyEq = sym.Eq(Pout/(rho*g) + Vout**2/(2*g) + Zout, Pin/(rho*g) + Vin**2/(2*g)+Zin+hs-hL)\n",
    "print(\"Start with Conservation of Energy\")\n",
    "display(MechEnergyEq)\n",
    "soln = solve(MechEnergyEq, Zin-Zout)[0]\n",
    "print(\"Symbolic solution for Zin-Zout\")\n",
    "display(Eq(Zin-Zout, soln))\n",
    "\n",
    "print(\"According to our assumptions, we can reduce this down to: \")\n",
    "soln = soln.subs({Pin:Patm, Pout:Patm, Vin:0, Vout:0, hs:0})\n",
    "display(Eq(Zin-Zout, soln))"
   ]
  },
  {
   "cell_type": "code",
   "execution_count": 7,
   "metadata": {},
   "outputs": [
    {
     "name": "stdout",
     "output_type": "stream",
     "text": [
      "Now calculate head loss (major loss + minor loss)\n",
      "Major loss:\n"
     ]
    },
    {
     "data": {
      "text/latex": [
       "$\\displaystyle \\frac{V_{1}^{2} f_{1} l_{1}}{2 D g}$"
      ],
      "text/plain": [
       "V_1**2*f_1*l_1/(2*D*g)"
      ]
     },
     "metadata": {},
     "output_type": "display_data"
    },
    {
     "name": "stdout",
     "output_type": "stream",
     "text": [
      "Minor loss:\n"
     ]
    },
    {
     "data": {
      "text/latex": [
       "$\\displaystyle \\frac{V_{1}^{2} \\left(2 k_{L90elbow} + k_{Lballvalve} + k_{Lentry} + k_{Lexit}\\right)}{2 g}$"
      ],
      "text/plain": [
       "V_1**2*(2*k_L90elbow + k_Lballvalve + k_Lentry + k_Lexit)/(2*g)"
      ]
     },
     "metadata": {},
     "output_type": "display_data"
    },
    {
     "name": "stdout",
     "output_type": "stream",
     "text": [
      "Substitute in major and minor losses:\n"
     ]
    },
    {
     "data": {
      "text/latex": [
       "$\\displaystyle Z_{in} - Z_{out} = \\frac{V_{1}^{2} \\left(D \\left(2 k_{L90elbow} + k_{Lballvalve} + k_{Lentry} + k_{Lexit}\\right) + f_{1} l_{1}\\right)}{2 D g}$"
      ],
      "text/plain": [
       "Eq(Z_in - Z_out, V_1**2*(D*(2*k_L90elbow + k_Lballvalve + k_Lentry + k_Lexit) + f_1*l_1)/(2*D*g))"
      ]
     },
     "metadata": {},
     "output_type": "display_data"
    }
   ],
   "source": [
    "print(\"Now calculate head loss (major loss + minor loss)\")\n",
    "\n",
    "majorLoss = (f*l/D)*(V**2)/(2*g)\n",
    "print(\"Major loss:\")\n",
    "display(majorLoss)\n",
    "print(\"Minor loss:\")\n",
    "minorLoss = (V**2)/(2*g)*(num_90elbow*Kl_90elbow+num_45elbow*Kl_45elbow+num_gatevalve*Kl_gatevalve+num_globevalve*Kl_globevalve+num_ballvalve*Kl_ballvalve+num_Tbranch*Kl_Tbranch+num_Tflow*Kl_Tflow+1*Kl_entry+1*Kl_exit)\n",
    "display(minorLoss)\n",
    "\n",
    "print(\"Substitute in major and minor losses:\")\n",
    "soln1 = simplify(soln.subs(hL, majorLoss+minorLoss))\n",
    "display(Eq(Zin-Zout, soln1))"
   ]
  },
  {
   "cell_type": "code",
   "execution_count": 8,
   "metadata": {},
   "outputs": [
    {
     "name": "stdout",
     "output_type": "stream",
     "text": [
      "A_num (ft^2):  0.005775081782846648\n",
      "Q_num (GPH):  150.0\n",
      "V_num (ft/s):  0.9644957207724746\n",
      "Solve for Reynold's number:\n"
     ]
    },
    {
     "data": {
      "text/plain": [
       "7657.917412614786"
      ]
     },
     "metadata": {},
     "output_type": "display_data"
    },
    {
     "name": "stdout",
     "output_type": "stream",
     "text": [
      "Reynold's number > 2000, turbulent flow:\n"
     ]
    },
    {
     "data": {
      "text/plain": [
       "0.033780508653367916"
      ]
     },
     "metadata": {},
     "output_type": "display_data"
    },
    {
     "data": {
      "text/latex": [
       "$\\displaystyle f_{1} = 0.0337805086533679$"
      ],
      "text/plain": [
       "Eq(f_1, 0.0337805086533679)"
      ]
     },
     "metadata": {},
     "output_type": "display_data"
    },
    {
     "name": "stdout",
     "output_type": "stream",
     "text": [
      "Final numeric solution for minimal difference in height between the two water levels to prevent overflow (in):\n"
     ]
    },
    {
     "data": {
      "text/latex": [
       "$\\displaystyle Z_{1} = 0.97050135645543$"
      ],
      "text/plain": [
       "Eq(Z_1, 0.97050135645543)"
      ]
     },
     "metadata": {},
     "output_type": "display_data"
    }
   ],
   "source": [
    "#A numeric\n",
    "A_num = np.pi*(((D_num/12)/2)**2)\n",
    "print(\"A_num (ft^2): \", A_num)\n",
    "#Q numeric\n",
    "Q_num = filter_V_ft/(HRT*60) #ft^3/s\n",
    "print(\"Q_num (GPH): \", Q_num/0.133681*3600)\n",
    "#V numeric\n",
    "V_num = Q_num/A_num\n",
    "print(\"V_num (ft/s): \", V_num)\n",
    "\n",
    "#Calculate friction factor\n",
    "f_num = getf(Q_num, D_num)\n",
    "display(Eq(f,f_num))\n",
    "    \n",
    "print(\"Final numeric solution for minimal difference in height between the two water levels to prevent overflow (in):\")\n",
    "soln1 = soln1.subs({V:V_num, f:f_num})\n",
    "# Absolute friction value (k) of PVC pipes span from (0.49 - 2.30) 10e-5, so we are going the conservative route\n",
    "# and using 2.30e-5\n",
    "# Source: https://www.engineeringtoolbox.com/surface-roughness-ventilation-ducts-d_209.html\n",
    "# Gravitational constant: 32.17 ft/s^2\n",
    "# Density of water: 62.4 lbs/ft^3\n",
    "# Patm = 14.6959 lbs/in^2 * 144 in^2/1 ft^2\n",
    "soln1 = soln1.subs({Kl_90elbow:getkL(D_num, 9), Kl_45elbow:getkL(D_num, 10), Kl_gatevalve:getkL(D_num, 4), Kl_globevalve:getkL(D_num, 5),\n",
    "                  Kl_ballvalve:getkL(D_num, 2), Kl_Tflow:getkL(D_num, 13), Kl_Tbranch:getkL(D_num, 14),\n",
    "                  l:l_num, D:D_num/12, k: 2.30e-5, Kl_entry:0.78, Kl_exit:1, g:32.17, rho:62.4, Patm:14.6959*144})\n",
    "display(Eq(Z1,soln1*12))"
   ]
  },
  {
   "cell_type": "markdown",
   "metadata": {
    "id": "JzCmPPCaM3Tq"
   },
   "source": [
    "#### Now figure out $Z_{2}$ through calculating minimum distance needed to drain settling tank to membrane filtration tank"
   ]
  },
  {
   "cell_type": "code",
   "execution_count": 9,
   "metadata": {},
   "outputs": [
    {
     "name": "stdout",
     "output_type": "stream",
     "text": [
      "Input variables of interest (segment 2):\n",
      "\n",
      "Hydraulic Diameter of PVC Pipe (in): 2.047\n",
      "Total Pipe Length (ft): 6\n",
      "Settling Tank Volume (gallon): 1\n",
      "# of 90° Elbows: 2\n",
      "# of 45° Elbows: 0\n",
      "# of Gate Valves: 0\n",
      "# of Globe Valves: 0\n",
      "# of Ball Valves: 0\n",
      "# of T Fittings (Flow): 0\n",
      "# of T Fittings (Branch): 1\n"
     ]
    }
   ],
   "source": [
    "# The remaining Q going through the top SLO\n",
    "Q_num3 = totalQ*0.133681/3600 - Q_num #in ft^3/s\n",
    "\n",
    "# Define parameters we can change for this segment\n",
    "D_num2 = 2.047\n",
    "l_num2 = 6 #feet\n",
    "l_num2_wide = 1 #feet\n",
    "num_90elbow2 = 2\n",
    "num_45elbow2 = 0\n",
    "num_gatevalve2 = 0\n",
    "num_globevalve2 = 0\n",
    "num_ballvalve2 = 0\n",
    "num_Tflow2 = 0\n",
    "num_Tbranch2 = 1\n",
    "input_var_list_str2 = [\"Hydraulic Diameter of PVC Pipe (in)\", \"Total Pipe Length (ft)\", \"Settling Tank Volume (gallon)\", \"# of 90\\N{DEGREE SIGN} Elbows\", \"# of 45\\N{DEGREE SIGN} Elbows\", \"# of Gate Valves\", \"# of Globe Valves\", \"# of Ball Valves\", \"# of T Fittings (Flow)\", \"# of T Fittings (Branch)\"]\n",
    "input_var_list2 = [D_num2, l_num2, l_num2_wide, num_90elbow2, num_45elbow2, num_gatevalve2, num_globevalve2, num_ballvalve2, num_Tflow2, num_Tbranch2]\n",
    "\n",
    "print(\"Input variables of interest (segment 2):\\n\")\n",
    "for ii in range(len(input_var_list_str2)):\n",
    "    print(input_var_list_str2[ii] + \": \" + str(input_var_list2[ii]))"
   ]
  },
  {
   "cell_type": "code",
   "execution_count": 10,
   "metadata": {},
   "outputs": [
    {
     "name": "stdout",
     "output_type": "stream",
     "text": [
      "Now calculate head loss (major loss + minor loss)\n",
      "Major loss:\n"
     ]
    },
    {
     "data": {
      "text/latex": [
       "$\\displaystyle \\frac{V_{2}^{2} f_{2} l_{2}}{2 D_{2} g} + \\frac{V_{4}^{2} f_{total} l_{total}}{2 D_{2} g}$"
      ],
      "text/plain": [
       "V_2**2*f_2*l_2/(2*D_2*g) + V_4**2*f_total*l_total/(2*D_2*g)"
      ]
     },
     "metadata": {},
     "output_type": "display_data"
    },
    {
     "name": "stdout",
     "output_type": "stream",
     "text": [
      "Minor loss:\n"
     ]
    },
    {
     "data": {
      "text/latex": [
       "$\\displaystyle \\frac{V_{2}^{2} \\left(2 k_{L90elbow} + k_{Lentry}\\right)}{2 g} + \\frac{V_{4}^{2} \\left(k_{Lbranch} + k_{Lexit}\\right)}{2 g}$"
      ],
      "text/plain": [
       "V_2**2*(2*k_L90elbow + k_Lentry)/(2*g) + V_4**2*(k_Lbranch + k_Lexit)/(2*g)"
      ]
     },
     "metadata": {},
     "output_type": "display_data"
    },
    {
     "name": "stdout",
     "output_type": "stream",
     "text": [
      "Substitute in major and minor losses:\n"
     ]
    },
    {
     "data": {
      "text/latex": [
       "$\\displaystyle Z_{in} - Z_{out} = \\frac{D_{2} \\left(V_{2}^{2} \\left(2 k_{L90elbow} + k_{Lentry}\\right) + V_{4}^{2} \\left(k_{Lbranch} + k_{Lexit}\\right)\\right) + V_{2}^{2} f_{2} l_{2} + V_{4}^{2} f_{total} l_{total}}{2 D_{2} g}$"
      ],
      "text/plain": [
       "Eq(Z_in - Z_out, (D_2*(V_2**2*(2*k_L90elbow + k_Lentry) + V_4**2*(k_Lbranch + k_Lexit)) + V_2**2*f_2*l_2 + V_4**2*f_total*l_total)/(2*D_2*g))"
      ]
     },
     "metadata": {},
     "output_type": "display_data"
    }
   ],
   "source": [
    "print(\"Now calculate head loss (major loss + minor loss)\")\n",
    "majorLoss2 = (f2*l2/D2)*(V2**2)/(2*g) + (f_total*l_total/D2)*(V4**2)/(2*g)\n",
    "print(\"Major loss:\")\n",
    "display(majorLoss2)\n",
    "print(\"Minor loss:\")\n",
    "minorLoss2 = (V2**2)/(2*g)*(num_90elbow2*Kl_90elbow+num_45elbow2*Kl_45elbow+num_gatevalve2*Kl_gatevalve+num_globevalve2*Kl_globevalve+num_ballvalve2*Kl_ballvalve+num_Tflow2*Kl_Tflow+1*Kl_entry) + (V4**2)/(2*g)*(num_Tbranch2*Kl_Tbranch+1*Kl_exit) \n",
    "display(minorLoss2)\n",
    "\n",
    "print(\"Substitute in major and minor losses:\")\n",
    "soln2 = simplify(soln.subs(hL, majorLoss2+minorLoss2))\n",
    "display(Eq(Zin-Zout, soln2))"
   ]
  },
  {
   "cell_type": "code",
   "execution_count": 11,
   "metadata": {},
   "outputs": [
    {
     "name": "stdout",
     "output_type": "stream",
     "text": [
      "A_num2 (ft^2):  0.022854044811468462\n",
      "V_num2 (ft/s):  0.24372235692263738\n",
      "Solve for Reynold's number:\n"
     ]
    },
    {
     "data": {
      "text/plain": [
       "3849.5344492333234"
      ]
     },
     "metadata": {},
     "output_type": "display_data"
    },
    {
     "name": "stdout",
     "output_type": "stream",
     "text": [
      "Reynold's number > 2000, turbulent flow:\n"
     ]
    },
    {
     "data": {
      "text/plain": [
       "0.04071450945007675"
      ]
     },
     "metadata": {},
     "output_type": "display_data"
    },
    {
     "data": {
      "text/latex": [
       "$\\displaystyle f_{2} = 0.0407145094500767$"
      ],
      "text/plain": [
       "Eq(f_2, 0.0407145094500767)"
      ]
     },
     "metadata": {},
     "output_type": "display_data"
    },
    {
     "name": "stdout",
     "output_type": "stream",
     "text": [
      "Solve for Reynold's number:\n"
     ]
    },
    {
     "data": {
      "text/plain": [
       "25663.562994888824"
      ]
     },
     "metadata": {},
     "output_type": "display_data"
    },
    {
     "name": "stdout",
     "output_type": "stream",
     "text": [
      "Reynold's number > 2000, turbulent flow:\n"
     ]
    },
    {
     "data": {
      "text/plain": [
       "0.02456678113659133"
      ]
     },
     "metadata": {},
     "output_type": "display_data"
    },
    {
     "data": {
      "text/latex": [
       "$\\displaystyle f_{total} = 0.0245667811365913$"
      ],
      "text/plain": [
       "Eq(f_total, 0.0245667811365913)"
      ]
     },
     "metadata": {},
     "output_type": "display_data"
    }
   ],
   "source": [
    "# Caclulate A_num2\n",
    "A_num2 = np.pi*(((D_num2/12)/2)**2)\n",
    "print(\"A_num2 (ft^2): \", A_num2)\n",
    "# Calculate V_num2\n",
    "V_num2 = Q_num/A_num2\n",
    "print(\"V_num2 (ft/s): \", V_num2)\n",
    "\n",
    "# Calculate two friction factors, one for prior to T (f_num2), one for after T (f_num2_wide)\n",
    "f_num2 = getf(Q_num, D_num2)\n",
    "display(Eq(f2,f_num2))\n",
    "\n",
    "f_num2_wide = getf(Q_num+Q_num3, D_num2)\n",
    "display(Eq(f_total,f_num2_wide))"
   ]
  },
  {
   "cell_type": "code",
   "execution_count": 12,
   "metadata": {
    "scrolled": true
   },
   "outputs": [
    {
     "name": "stdout",
     "output_type": "stream",
     "text": [
      "Final numeric solution for minimal difference in height between the two water levels to prevent overflow (in):\n"
     ]
    },
    {
     "data": {
      "text/latex": [
       "$\\displaystyle Z_{2} = 1.00767429072874$"
      ],
      "text/plain": [
       "Eq(Z_2, 1.00767429072874)"
      ]
     },
     "metadata": {},
     "output_type": "display_data"
    }
   ],
   "source": [
    "print(\"Final numeric solution for minimal difference in height between the two water levels to prevent overflow (in):\")\n",
    "soln2 = soln2.subs({V2:V_num2, V4:(Q_num+Q_num3)/(np.pi*((D_num2/2)**2)), f2:f_num2, f_total:f_num2_wide})\n",
    "# Absolute friction value (k) of PVC pipes span from (0.49 - 2.30) 10e-5, so we are going the conservative route\n",
    "# and using 2.30e-5\n",
    "# Source: https://www.engineeringtoolbox.com/surface-roughness-ventilation-ducts-d_209.html\n",
    "# Gravitational constant: 32.17 ft/s^2\n",
    "# Density of water: 62.4 lbs/ft^3\n",
    "# Patm = 14.6959 lbs/in^2 * 144 in^2/1 ft^2\n",
    "soln2 = soln2.subs({Kl_90elbow:getkL(D_num2, 9), Kl_45elbow:getkL(D_num2, 10), Kl_gatevalve:getkL(D_num2, 4), Kl_globevalve:getkL(D_num2, 5),\n",
    "                  Kl_ballvalve:getkL(D_num, 2), Kl_Tflow:getkL(D_num2, 13), Kl_Tbranch:getkL(D_num2, 14),\n",
    "                  l2:l_num2, l_total:l_num2_wide, D2:D_num2/12, k: 2.30e-5, Kl_entry:0.78, Kl_exit:1, g:32.17, rho:62.4, Patm:14.6959*144})\n",
    "display(Eq(Z2,soln2*12+soln1*12)) #the actual Z2 here is this value plus Z1 from earlier"
   ]
  },
  {
   "cell_type": "markdown",
   "metadata": {
    "id": "JzCmPPCaM3Tq"
   },
   "source": [
    "#### Now look at the flow from the top SLO to the membrane filtration tank to find an alternative value for $Z_{2}$, choose whichever is larger as the final $Z_{2}$"
   ]
  },
  {
   "cell_type": "code",
   "execution_count": 13,
   "metadata": {},
   "outputs": [
    {
     "name": "stdout",
     "output_type": "stream",
     "text": [
      "\n",
      "Input variables of interest (segment 3):\n",
      "\n",
      "Hydraulic Diameter of PVC Pipe (in): 2.047\n",
      "Total Pipe Length (ft): 6\n",
      "# of 90° Elbows: 2\n",
      "# of 45° Elbows: 0\n",
      "# of Gate Valves: 0\n",
      "# of Globe Valves: 0\n",
      "# of Ball Valves: 1\n",
      "# of T Fittings (Flow): 1\n",
      "# of T Fittings (Branch): 0\n"
     ]
    }
   ],
   "source": [
    "# New input parameters for this segment, change these to adjust system parameters:\n",
    "l_num3 = 6 #feet\n",
    "num_90elbow3 = 2\n",
    "num_45elbow3 = 0\n",
    "num_gatevalve3 = 0\n",
    "num_globevalve3 = 0\n",
    "num_ballvalve3 = 1\n",
    "num_Tflow3 = 1\n",
    "num_Tbranch3 = 0\n",
    "input_var_list_str3 = [\"Hydraulic Diameter of PVC Pipe (in)\", \"Total Pipe Length (ft)\", \"# of 90\\N{DEGREE SIGN} Elbows\", \"# of 45\\N{DEGREE SIGN} Elbows\", \"# of Gate Valves\", \"# of Globe Valves\", \"# of Ball Valves\", \"# of T Fittings (Flow)\", \"# of T Fittings (Branch)\"]\n",
    "input_var_list3 = [D_num2, l_num3, num_90elbow3, num_45elbow3, num_gatevalve3, num_globevalve3, num_ballvalve3, num_Tflow3, num_Tbranch3]\n",
    "\n",
    "print(\"\\nInput variables of interest (segment 3):\\n\")\n",
    "for ii in range(len(input_var_list_str3)):\n",
    "    print(input_var_list_str3[ii] + \": \" + str(input_var_list3[ii]))"
   ]
  },
  {
   "cell_type": "code",
   "execution_count": 14,
   "metadata": {},
   "outputs": [
    {
     "name": "stdout",
     "output_type": "stream",
     "text": [
      "Now calculate head loss (major loss + minor loss)\n",
      "Major loss:\n"
     ]
    },
    {
     "data": {
      "text/latex": [
       "$\\displaystyle \\frac{V_{3}^{2} f_{3} l_{3}}{2 D_{2} g} + \\frac{V_{4}^{2} f_{total} l_{total}}{2 D_{2} g}$"
      ],
      "text/plain": [
       "V_3**2*f_3*l_3/(2*D_2*g) + V_4**2*f_total*l_total/(2*D_2*g)"
      ]
     },
     "metadata": {},
     "output_type": "display_data"
    },
    {
     "name": "stdout",
     "output_type": "stream",
     "text": [
      "Minor loss:\n"
     ]
    },
    {
     "data": {
      "text/latex": [
       "$\\displaystyle \\frac{V_{3}^{2} \\left(2 k_{L90elbow} + k_{Lballvalve} + k_{Lentry} + k_{Lflow}\\right)}{2 g} + \\frac{V_{4}^{2} \\left(k_{Lbranch} + k_{Lexit}\\right)}{2 g}$"
      ],
      "text/plain": [
       "V_3**2*(2*k_L90elbow + k_Lballvalve + k_Lentry + k_Lflow)/(2*g) + V_4**2*(k_Lbranch + k_Lexit)/(2*g)"
      ]
     },
     "metadata": {},
     "output_type": "display_data"
    },
    {
     "name": "stdout",
     "output_type": "stream",
     "text": [
      "Substitute in major and minor losses:\n"
     ]
    },
    {
     "data": {
      "text/latex": [
       "$\\displaystyle Z_{in} - Z_{out} = \\frac{D_{2} \\left(V_{3}^{2} \\left(2 k_{L90elbow} + k_{Lballvalve} + k_{Lentry} + k_{Lflow}\\right) + V_{4}^{2} \\left(k_{Lbranch} + k_{Lexit}\\right)\\right) + V_{3}^{2} f_{3} l_{3} + V_{4}^{2} f_{total} l_{total}}{2 D_{2} g}$"
      ],
      "text/plain": [
       "Eq(Z_in - Z_out, (D_2*(V_3**2*(2*k_L90elbow + k_Lballvalve + k_Lentry + k_Lflow) + V_4**2*(k_Lbranch + k_Lexit)) + V_3**2*f_3*l_3 + V_4**2*f_total*l_total)/(2*D_2*g))"
      ]
     },
     "metadata": {},
     "output_type": "display_data"
    }
   ],
   "source": [
    "print(\"Now calculate head loss (major loss + minor loss)\")\n",
    "\n",
    "majorLoss3 = (f3*l3/D2)*(V3**2)/(2*g) + (f_total*l_total/D2)*(V4**2)/(2*g)\n",
    "print(\"Major loss:\")\n",
    "display(majorLoss3)\n",
    "print(\"Minor loss:\")\n",
    "minorLoss3 = (V3**2)/(2*g)*(num_90elbow3*Kl_90elbow+num_45elbow3*Kl_45elbow+num_gatevalve3*Kl_gatevalve+num_globevalve3*Kl_globevalve+num_ballvalve3*Kl_ballvalve+num_Tbranch3*Kl_Tbranch+num_Tflow3*Kl_Tflow+1*Kl_entry) + (V4**2)/(2*g)*(num_Tbranch2*Kl_Tbranch+1*Kl_exit)\n",
    "display(minorLoss3)\n",
    "\n",
    "print(\"Substitute in major and minor losses:\")\n",
    "soln3 = simplify(soln.subs(hL, majorLoss3+minorLoss3))\n",
    "display(Eq(Zin-Zout, soln3))"
   ]
  },
  {
   "cell_type": "code",
   "execution_count": 15,
   "metadata": {},
   "outputs": [
    {
     "name": "stdout",
     "output_type": "stream",
     "text": [
      "V_num3 (ft/s):  1.3810933558949452\n",
      "Solve for Reynold's number:\n"
     ]
    },
    {
     "data": {
      "text/plain": [
       "21814.0285456555"
      ]
     },
     "metadata": {},
     "output_type": "display_data"
    },
    {
     "name": "stdout",
     "output_type": "stream",
     "text": [
      "Reynold's number > 2000, turbulent flow:\n"
     ]
    },
    {
     "data": {
      "text/plain": [
       "0.02556282277206841"
      ]
     },
     "metadata": {},
     "output_type": "display_data"
    },
    {
     "data": {
      "text/latex": [
       "$\\displaystyle f_{3} = 0.0255628227720684$"
      ],
      "text/plain": [
       "Eq(f_3, 0.0255628227720684)"
      ]
     },
     "metadata": {},
     "output_type": "display_data"
    },
    {
     "name": "stdout",
     "output_type": "stream",
     "text": [
      "Solve for Reynold's number:\n"
     ]
    },
    {
     "data": {
      "text/plain": [
       "25663.562994888824"
      ]
     },
     "metadata": {},
     "output_type": "display_data"
    },
    {
     "name": "stdout",
     "output_type": "stream",
     "text": [
      "Reynold's number > 2000, turbulent flow:\n"
     ]
    },
    {
     "data": {
      "text/plain": [
       "0.02456678113659133"
      ]
     },
     "metadata": {},
     "output_type": "display_data"
    },
    {
     "data": {
      "text/latex": [
       "$\\displaystyle f_{total} = 0.0245667811365913$"
      ],
      "text/plain": [
       "Eq(f_total, 0.0245667811365913)"
      ]
     },
     "metadata": {},
     "output_type": "display_data"
    }
   ],
   "source": [
    "# Calculate V_num3\n",
    "V_num3 = Q_num3/A_num2\n",
    "print(\"V_num3 (ft/s): \", V_num3)\n",
    "\n",
    "# Calculate two friction factors, one for prior to T (f_num3), one for after T (f_num2_wide)\n",
    "f_num3 = getf(Q_num3, D_num2)\n",
    "display(Eq(f3,f_num3))\n",
    "\n",
    "f_num2_wide = getf(Q_num+Q_num3, D_num2)\n",
    "display(Eq(f_total,f_num2_wide))"
   ]
  },
  {
   "cell_type": "code",
   "execution_count": 16,
   "metadata": {},
   "outputs": [
    {
     "name": "stdout",
     "output_type": "stream",
     "text": [
      "Final numeric solution for minimal difference in height between the two water levels to prevent overflow (in):\n"
     ]
    },
    {
     "data": {
      "text/latex": [
       "$\\displaystyle Z_{2} = 1.36581165786557$"
      ],
      "text/plain": [
       "Eq(Z_2, 1.36581165786557)"
      ]
     },
     "metadata": {},
     "output_type": "display_data"
    }
   ],
   "source": [
    "print(\"Final numeric solution for minimal difference in height between the two water levels to prevent overflow (in):\")\n",
    "soln3 = soln3.subs({V3:V_num3, V4:(Q_num+Q_num3)/(np.pi*((D_num2/2)**2)), f3:f_num3, f_total:f_num2_wide})\n",
    "# Absolute friction value (k) of PVC pipes span from (0.49 - 2.30) 10e-5, so we are going the conservative route\n",
    "# and using 2.30e-5\n",
    "# Source: https://www.engineeringtoolbox.com/surface-roughness-ventilation-ducts-d_209.html\n",
    "# Gravitational constant: 32.17 ft/s^2\n",
    "# Density of water: 62.4 lbs/ft^3\n",
    "# Patm = 14.6959 lbs/in^2 * 144 in^2/1 ft^2\n",
    "soln3 = soln3.subs({Kl_90elbow:getkL(D_num2, 9), Kl_45elbow:getkL(D_num2, 10), Kl_gatevalve:getkL(D_num2, 4), Kl_globevalve:getkL(D_num2, 5),\n",
    "                  Kl_ballvalve:getkL(D_num, 2), Kl_Tflow:getkL(D_num2, 13), Kl_Tbranch:getkL(D_num2, 14),\n",
    "                  l3:l_num3, l_total:l_num2_wide, D2:D_num2/12, k: 2.30e-5, Kl_entry:0.78, Kl_exit:1, g:32.17, rho:62.4, Patm:14.6959*144})\n",
    "display(Eq(Z2,soln3*12))"
   ]
  },
  {
   "cell_type": "markdown",
   "metadata": {
    "id": "JzCmPPCaM3Tq"
   },
   "source": [
    "### Part II: Membrane Filtration to Biofilm Reactor and Sump\n",
    "\n",
    "System description:\n",
    " - 1 pipe size (fish tank to settling tank, everything else)\n",
    " - 1 distinct velocity\n",
    " - From membrane filtration to biofilm reactor we have:\n",
    "     - One reentrant entry\n",
    "     - One 90 degree elbow\n",
    "     - One exit\n",
    " - From biofilm reactor to sump we have:\n",
    "     - One reentrant entry\n",
    "     - One 90 degree elbow\n",
    "     - One exit\n",
    "- Q = 1000 GPH\n",
    "\n",
    "We are interested in finding:\n",
    "- $Z_{3}$, distances between water level of membrane filtration tank and the biofilm reactor tank.\n",
    "\n",
    "We'll ignore the friction loss from the tanks themselves for now. See image below for a diagram of Part 2:"
   ]
  },
  {
   "cell_type": "code",
   "execution_count": 17,
   "metadata": {},
   "outputs": [
    {
     "name": "stdout",
     "output_type": "stream",
     "text": [
      "Input variables of interest:\n",
      "\n",
      "Total Volumetric Flow Rate (ft^3/s): 0.0371336111111111\n",
      "Hydraulic Diameter of PVC Pipe (ft): 2.047\n",
      "Total Pipe Length (ft): 1\n",
      "# of 90° Elbows: 2\n",
      "# of 45° Elbows: 0\n",
      "# of Gate Valves: 0\n",
      "# of Globe Valves: 0\n",
      "# of Ball Valves: 0\n",
      "# of T Fittings (Flow): 0\n",
      "# of T Fittings (Branch): 0\n"
     ]
    }
   ],
   "source": [
    "# Input variables of interest, change these to adjust system parameters:\n",
    "\n",
    "# Fluid Parameters\n",
    "Q_num4 = 1000*0.133681/3600 # (ft^3/s)\n",
    "D_num = 1.029/12  # (ft) IGNORE THIS \n",
    "D_num2 = 2.047 # (in)\n",
    "l_num4 = 1 #feet                 #CHECK WITH BILL\n",
    "\n",
    "#Pipe Parameters\n",
    "num_90elbow4 = 2\n",
    "num_45elbow4 = 0\n",
    "num_gatevalve4 = 0\n",
    "num_globevalve4 = 0\n",
    "num_ballvalve4 = 0\n",
    "num_Tflow4 = 0\n",
    "num_Tbranch4 = 0\n",
    "\n",
    "input_var_list_str = [\"Total Volumetric Flow Rate (ft^3/s)\", \"Hydraulic Diameter of PVC Pipe (ft)\", \"Total Pipe Length (ft)\", \"# of 90\\N{DEGREE SIGN} Elbows\", \"# of 45\\N{DEGREE SIGN} Elbows\", \"# of Gate Valves\", \"# of Globe Valves\", \"# of Ball Valves\", \"# of T Fittings (Flow)\", \"# of T Fittings (Branch)\"]\n",
    "input_var_list = [Q_num4, D_num2, l_num4, num_90elbow4, num_45elbow4, num_gatevalve4, num_globevalve4, num_ballvalve4, num_Tflow4, num_Tbranch4]\n",
    "\n",
    "print(\"Input variables of interest:\\n\")\n",
    "for ii in range(len(input_var_list_str)):\n",
    "    print(input_var_list_str[ii] + \": \" + str(input_var_list[ii]))"
   ]
  },
  {
   "cell_type": "code",
   "execution_count": 18,
   "metadata": {},
   "outputs": [],
   "source": [
    "# Define all symbolic variables\n",
    "Pout, Vout, g, rho, Pin, Vin, Zin, Zout, hin, hs, hL, Patm, Z1, Z2, Z3 = symbols(r'P_out, V_out, g, rho, P_in, V_in, Z_in, Z_out, h_in, h_s, h_L, P_atm, Z_1, Z_2, Z_3') #def all the parameters here\n",
    "Q, f, f2, f_total, f3, f4, l, l2, l4, l_total, l3, D, D2, V, V2, V3, V4, V5, k, Kl_90elbow, Kl_45elbow, Kl_gatevalve, Kl_globevalve, Kl_ballvalve, Kl_Tflow, Kl_Tbranch, Kl_entry, Kl_exit = symbols(r'Q, f_1, f_2, f_total, f_3, f_4, l_1, l_2, L_4, l_total, l_3, D, D_2, V_1, V_2, V_3, V_4, V_5, k, k_L90elbow, k_L45elbow, k_Lgatevalve, k_Lglobevalve, k_Lballvalve k_Lflow, k_Lbranch, k_Lentry, k_Lexit')"
   ]
  },
  {
   "cell_type": "code",
   "execution_count": 19,
   "metadata": {},
   "outputs": [
    {
     "name": "stdout",
     "output_type": "stream",
     "text": [
      "Start with Conservation of Energy\n"
     ]
    },
    {
     "data": {
      "text/latex": [
       "$\\displaystyle \\frac{P_{out}}{g \\rho} + \\frac{V_{out}^{2}}{2 g} + Z_{out} = \\frac{P_{in}}{g \\rho} + \\frac{V_{in}^{2}}{2 g} + Z_{in} - h_{L} + h_{s}$"
      ],
      "text/plain": [
       "Eq(P_out/(g*rho) + V_out**2/(2*g) + Z_out, P_in/(g*rho) + V_in**2/(2*g) + Z_in - h_L + h_s)"
      ]
     },
     "metadata": {},
     "output_type": "display_data"
    },
    {
     "name": "stdout",
     "output_type": "stream",
     "text": [
      "Symbolic solution for Zin-Zout\n"
     ]
    },
    {
     "data": {
      "text/latex": [
       "$\\displaystyle Z_{in} - Z_{out} = \\frac{- P_{in} + P_{out} + g \\rho \\left(h_{L} - h_{s}\\right) + \\frac{\\rho \\left(- V_{in}^{2} + V_{out}^{2}\\right)}{2}}{g \\rho}$"
      ],
      "text/plain": [
       "Eq(Z_in - Z_out, (-P_in + P_out + g*rho*(h_L - h_s) + rho*(-V_in**2 + V_out**2)/2)/(g*rho))"
      ]
     },
     "metadata": {},
     "output_type": "display_data"
    },
    {
     "name": "stdout",
     "output_type": "stream",
     "text": [
      "According to our assumptions, we can reduce this down to: \n"
     ]
    },
    {
     "data": {
      "text/latex": [
       "$\\displaystyle Z_{in} - Z_{out} = h_{L}$"
      ],
      "text/plain": [
       "Eq(Z_in - Z_out, h_L)"
      ]
     },
     "metadata": {},
     "output_type": "display_data"
    }
   ],
   "source": [
    "# Start with Conservation of Energy\n",
    "MechEnergyEq = sym.Eq(Pout/(rho*g) + Vout**2/(2*g) + Zout, Pin/(rho*g) + Vin**2/(2*g)+Zin+hs-hL)\n",
    "print(\"Start with Conservation of Energy\")\n",
    "display(MechEnergyEq)\n",
    "\n",
    "soln4 = solve(MechEnergyEq, Zin-Zout)[0]\n",
    "print(\"Symbolic solution for Zin-Zout\")\n",
    "display(Eq(Zin-Zout, soln4))\n",
    "\n",
    "soln4 = soln4.subs({Pin:Patm, Pout:Patm, Vin:0, Vout:0, hs:0})\n",
    "print(\"According to our assumptions, we can reduce this down to: \")\n",
    "display(Eq(Zin-Zout, soln4))"
   ]
  },
  {
   "cell_type": "code",
   "execution_count": 20,
   "metadata": {},
   "outputs": [
    {
     "name": "stdout",
     "output_type": "stream",
     "text": [
      "Calculation of head loss (major loss + minor loss)\n",
      "Major loss:\n"
     ]
    },
    {
     "data": {
      "text/latex": [
       "$\\displaystyle \\frac{L_{4} V_{5}^{2} f_{4}}{2 D_{2} g}$"
      ],
      "text/plain": [
       "L_4*V_5**2*f_4/(2*D_2*g)"
      ]
     },
     "metadata": {},
     "output_type": "display_data"
    },
    {
     "name": "stdout",
     "output_type": "stream",
     "text": [
      "Minor loss:\n"
     ]
    },
    {
     "data": {
      "text/latex": [
       "$\\displaystyle \\frac{V_{5}^{2} k_{Lexit}}{2 g} + \\frac{V_{5}^{2} \\left(2 k_{L90elbow} + k_{Lentry}\\right)}{2 g}$"
      ],
      "text/plain": [
       "V_5**2*k_Lexit/(2*g) + V_5**2*(2*k_L90elbow + k_Lentry)/(2*g)"
      ]
     },
     "metadata": {},
     "output_type": "display_data"
    },
    {
     "name": "stdout",
     "output_type": "stream",
     "text": [
      "Substitute in major and minor losses:\n"
     ]
    },
    {
     "data": {
      "text/latex": [
       "$\\displaystyle Z_{in} - Z_{out} = \\frac{V_{5}^{2} \\left(D_{2} \\left(2 k_{L90elbow} + k_{Lentry} + k_{Lexit}\\right) + L_{4} f_{4}\\right)}{2 D_{2} g}$"
      ],
      "text/plain": [
       "Eq(Z_in - Z_out, V_5**2*(D_2*(2*k_L90elbow + k_Lentry + k_Lexit) + L_4*f_4)/(2*D_2*g))"
      ]
     },
     "metadata": {},
     "output_type": "display_data"
    }
   ],
   "source": [
    "print(\"Calculation of head loss (major loss + minor loss)\")\n",
    "\n",
    "majorLoss4 = (f4*l4/D2)*(V5**2)/(2*g)\n",
    "print(\"Major loss:\")\n",
    "display(majorLoss4)\n",
    "\n",
    "minorLoss4 = (V5**2)/(2*g)*(num_90elbow4*Kl_90elbow+num_45elbow4*Kl_45elbow+num_gatevalve4*Kl_gatevalve+num_globevalve4*Kl_globevalve+num_ballvalve4*Kl_ballvalve+num_Tflow4*Kl_Tflow+1*Kl_entry) + (V5**2)/(2*g)*(num_Tbranch4*Kl_Tbranch+1*Kl_exit) \n",
    "print(\"Minor loss:\")\n",
    "display(minorLoss4)\n",
    "\n",
    "soln4 = simplify(soln4.subs(hL, majorLoss4+minorLoss4))\n",
    "print(\"Substitute in major and minor losses:\")\n",
    "display(Eq(Zin-Zout, soln4))"
   ]
  },
  {
   "cell_type": "code",
   "execution_count": 21,
   "metadata": {},
   "outputs": [
    {
     "name": "stdout",
     "output_type": "stream",
     "text": [
      "A_num4 (ft^2):  0.022854044811468462\n",
      "V_num5 (ft/s):  1.6248157128175826\n",
      "Solve for Reynold's number:\n"
     ]
    },
    {
     "data": {
      "text/plain": [
       "25663.562994888824"
      ]
     },
     "metadata": {},
     "output_type": "display_data"
    },
    {
     "name": "stdout",
     "output_type": "stream",
     "text": [
      "Reynold's number > 2000, turbulent flow:\n"
     ]
    },
    {
     "data": {
      "text/plain": [
       "0.02456678113659133"
      ]
     },
     "metadata": {},
     "output_type": "display_data"
    },
    {
     "data": {
      "text/latex": [
       "$\\displaystyle f_{4} = 0.0245667811365913$"
      ],
      "text/plain": [
       "Eq(f_4, 0.0245667811365913)"
      ]
     },
     "metadata": {},
     "output_type": "display_data"
    }
   ],
   "source": [
    "# Caclulate A_num2\n",
    "A_num2 = np.pi*(((D_num2/12)/2)**2)\n",
    "print(\"A_num4 (ft^2): \", A_num2)\n",
    "\n",
    "# Calculate V_num2\n",
    "V_num5 = Q_num4/A_num2\n",
    "print(\"V_num5 (ft/s): \", V_num5)\n",
    "\n",
    "# Calculate the friction factor\n",
    "f_num4 = getf(Q_num4, D_num2)\n",
    "display(Eq(f4,f_num4))"
   ]
  },
  {
   "cell_type": "code",
   "execution_count": 22,
   "metadata": {},
   "outputs": [
    {
     "name": "stdout",
     "output_type": "stream",
     "text": [
      "Final numeric solution for difference in height between the two water levels to prevent overflow (in):\n"
     ]
    },
    {
     "data": {
      "text/latex": [
       "$\\displaystyle Z_{3} = 1.50868815936183$"
      ],
      "text/plain": [
       "Eq(Z_3, 1.50868815936183)"
      ]
     },
     "metadata": {},
     "output_type": "display_data"
    }
   ],
   "source": [
    "print(\"Final Numeric Solution for Difference in Height Between the Two Water Levels to Prevent Overflow (in):\")\n",
    "soln4 = soln4.subs({V5:V_num5, V4:(Q_num4)/(np.pi*((D_num2/2)**2)), f4:f_num4})\n",
    "\n",
    "soln4 = soln4.subs({Kl_90elbow:getkL(D_num2, 9), Kl_45elbow:getkL(D_num2, 10), Kl_gatevalve:getkL(D_num2, 4), Kl_globevalve:getkL(D_num2, 5),\n",
    "                  Kl_ballvalve:getkL(D_num, 2), Kl_Tflow:getkL(D_num2, 13), Kl_Tbranch:getkL(D_num2, 14),\n",
    "                  l4:l_num4, D2:D_num2/12, k: 2.30e-5, Kl_entry:0.78, Kl_exit:1, g:32.17, rho:62.4, Patm:14.6959*144})\n",
    "display(Eq(Z3,soln4*12))"
   ]
  }
 ],
 "metadata": {
  "colab": {
   "collapsed_sections": [],
   "name": "hw6_template2.ipynb",
   "provenance": []
  },
  "kernelspec": {
   "display_name": "Python 3 (ipykernel)",
   "language": "python",
   "name": "python3"
  },
  "language_info": {
   "codemirror_mode": {
    "name": "ipython",
    "version": 3
   },
   "file_extension": ".py",
   "mimetype": "text/x-python",
   "name": "python",
   "nbconvert_exporter": "python",
   "pygments_lexer": "ipython3",
   "version": "3.9.6"
  }
 },
 "nbformat": 4,
 "nbformat_minor": 1
}
